{
 "cells": [
  {
   "cell_type": "code",
   "execution_count": 1,
   "metadata": {},
   "outputs": [
    {
     "data": {
      "text/plain": [
       "<Figure size 640x480 with 1 Axes>"
      ]
     },
     "metadata": {},
     "output_type": "display_data"
    },
    {
     "data": {
      "text/plain": [
       "<Figure size 640x480 with 1 Axes>"
      ]
     },
     "metadata": {},
     "output_type": "display_data"
    }
   ],
   "source": [
    "import os\n",
    "import shutil\n",
    "\n",
    "import cv2\n",
    "import matplotlib.pyplot as plt\n",
    "import numpy as np\n",
    "from sklearn.datasets import make_blobs\n",
    "\n",
    "label_to_name = {0: 'A', 1: 'B', 2: 'C', 3: 'D'}\n",
    "def create_dataset(out_dirpath):\n",
    "    # 4クラスの点を作成する。\n",
    "    X, Y = make_blobs(n_samples=1000, n_features=2,\n",
    "                      centers=[[40, 40], [40, 60], [60, 60], [60, 40]])\n",
    "    plt.scatter(X[:, 0], X[:, 1], marker='o', c=Y, edgecolor='k')\n",
    "    plt.show()\n",
    "\n",
    "    # 点に基づいて、円を描画した画像を生成する。\n",
    "    for i, (x, y) in enumerate(zip(X, Y)):\n",
    "        img = np.zeros((100, 100), dtype=np.uint8)\n",
    "        center = tuple(x.astype(int))\n",
    "        cv2.circle(img, center, 10, color=255, thickness=-1)\n",
    "\n",
    "        save_dirpath = os.path.join(out_dirpath, label_to_name[y])\n",
    "        os.makedirs(save_dirpath, exist_ok=True)\n",
    "\n",
    "        save_path = os.path.join(save_dirpath, '{}.png'.format(i))\n",
    "        cv2.imwrite(save_path, img)\n",
    "\n",
    "# 古いディレクトリ削除\n",
    "shutil.rmtree('data')\n",
    "create_dataset('data/train')\n",
    "create_dataset('data/test')"
   ]
  },
  {
   "cell_type": "code",
   "execution_count": 2,
   "metadata": {},
   "outputs": [
    {
     "name": "stdout",
     "output_type": "stream",
     "text": [
      "\u001b[01;34mdata\u001b[00m\r\n",
      "├── \u001b[01;34mtest\u001b[00m\r\n",
      "│   ├── \u001b[01;34mA\u001b[00m\r\n",
      "│   ├── \u001b[01;34mB\u001b[00m\r\n",
      "│   ├── \u001b[01;34mC\u001b[00m\r\n",
      "│   └── \u001b[01;34mD\u001b[00m\r\n",
      "└── \u001b[01;34mtrain\u001b[00m\r\n",
      "    ├── \u001b[01;34mA\u001b[00m\r\n",
      "    ├── \u001b[01;34mB\u001b[00m\r\n",
      "    ├── \u001b[01;34mC\u001b[00m\r\n",
      "    └── \u001b[01;34mD\u001b[00m\r\n",
      "\r\n",
      "10 directories\r\n"
     ]
    }
   ],
   "source": [
    "!tree data -d"
   ]
  },
  {
   "cell_type": "code",
   "execution_count": 3,
   "metadata": {},
   "outputs": [
    {
     "name": "stderr",
     "output_type": "stream",
     "text": [
      "Using TensorFlow backend.\n"
     ]
    }
   ],
   "source": [
    "import glob\n",
    "import os\n",
    "\n",
    "import numpy as np\n",
    "from PIL import Image\n",
    "from keras.callbacks import CSVLogger\n",
    "from keras.layers import Conv2D, Dense, Dropout, Flatten, MaxPooling2D\n",
    "from keras.models import Sequential, load_model\n",
    "from keras.utils.np_utils import to_categorical\n",
    "\n",
    "# ハイパーパラメータ\n",
    "############################################################\n",
    "result_dirpath = 'result'  # 結果や重みを出力するディレクトリ\n",
    "os.makedirs(result_dirpath, exist_ok=True)\n",
    "\n",
    "batch_size = 32            # バッチサイズ\n",
    "input_shape = (90, 90, 1)  # 入力の形状 (高さ、幅、チャンネル数)\n",
    "epochs = 10                # エポック数"
   ]
  },
  {
   "cell_type": "code",
   "execution_count": 4,
   "metadata": {},
   "outputs": [
    {
     "name": "stdout",
     "output_type": "stream",
     "text": [
      "class name: A     class id: 0 number of images: 250\n",
      "class name: B     class id: 1 number of images: 250\n",
      "class name: C     class id: 2 number of images: 250\n",
      "class name: D     class id: 3 number of images: 250\n"
     ]
    }
   ],
   "source": [
    "# データを作成する。\n",
    "############################################################\n",
    "\n",
    "def load_dataset(dirpath):\n",
    "    '''データセットを読み込む。\n",
    "    \n",
    "    以下のディレクトリ構造を想定している。\n",
    "    data\n",
    "    |-- test\n",
    "    |   |-- A\n",
    "    |   |-- B\n",
    "    |   |-- C\n",
    "    |   `-- D\n",
    "    `-- train\n",
    "        |-- A\n",
    "        |-- B\n",
    "        |-- C\n",
    "        `-- D\n",
    "    '''\n",
    "    data = []           # データ\n",
    "    labels = []         # ラベル\n",
    "    label_to_name = {}  # 名前とラベルの対応関係\n",
    "\n",
    "    for label, label_name in enumerate(sorted(os.listdir(dirpath))):\n",
    "        label_to_name[label] = label_name\n",
    "\n",
    "        for img_path in glob.glob(os.path.join(dirpath, label_name, '*.png')):\n",
    "            # 画像を読み込む。\n",
    "            img = Image.open(img_path).resize(input_shape[:2])\n",
    "            x = np.expand_dims(np.array(img), axis=-1)  # (BatchSize, H, W) -> (BatchSize, H, W, 1)\n",
    "            x = x / 255.  # [0, 255] から [0, 1] に正規化する。\n",
    "\n",
    "            data.append(x)\n",
    "            labels.append(label)\n",
    "    data = np.array(data)\n",
    "    labels = np.array(labels)\n",
    "\n",
    "    return data, labels, label_to_name\n",
    "\n",
    "# データセットを読み込む。\n",
    "x_train, y_train, label_to_name = load_dataset('data/train')\n",
    "num_classes = len(label_to_name)  # クラス数\n",
    "\n",
    "# データセットの情報を表示する。\n",
    "for label, label_name in label_to_name.items():\n",
    "    print('class name: {:<5} class id: {} number of images: {}'.format(\n",
    "        label_name, label, len(x_train[y_train==label])))\n",
    "# class name: A     class id: 0 number of images: 250\n",
    "# class name: B     class id: 1 number of images: 250\n",
    "# class name: C     class id: 2 number of images: 250\n",
    "# class name: D     class id: 3 number of images: 250"
   ]
  },
  {
   "cell_type": "code",
   "execution_count": 5,
   "metadata": {},
   "outputs": [
    {
     "name": "stdout",
     "output_type": "stream",
     "text": [
      "_________________________________________________________________\n",
      "Layer (type)                 Output Shape              Param #   \n",
      "=================================================================\n",
      "conv2d_1 (Conv2D)            (None, 88, 88, 32)        320       \n",
      "_________________________________________________________________\n",
      "conv2d_2 (Conv2D)            (None, 86, 86, 64)        18496     \n",
      "_________________________________________________________________\n",
      "max_pooling2d_1 (MaxPooling2 (None, 43, 43, 64)        0         \n",
      "_________________________________________________________________\n",
      "conv2d_3 (Conv2D)            (None, 41, 41, 64)        36928     \n",
      "_________________________________________________________________\n",
      "max_pooling2d_2 (MaxPooling2 (None, 20, 20, 64)        0         \n",
      "_________________________________________________________________\n",
      "flatten_1 (Flatten)          (None, 25600)             0         \n",
      "_________________________________________________________________\n",
      "dense_1 (Dense)              (None, 500)               12800500  \n",
      "_________________________________________________________________\n",
      "dropout_1 (Dropout)          (None, 500)               0         \n",
      "_________________________________________________________________\n",
      "dense_2 (Dense)              (None, 4)                 2004      \n",
      "=================================================================\n",
      "Total params: 12,858,248\n",
      "Trainable params: 12,858,248\n",
      "Non-trainable params: 0\n",
      "_________________________________________________________________\n"
     ]
    }
   ],
   "source": [
    "# モデルを作成する。\n",
    "############################################################\n",
    "model = Sequential()\n",
    "model.add(Conv2D(32, 3, activation='relu', input_shape=input_shape))\n",
    "model.add(Conv2D(64, 3, activation='relu'))\n",
    "model.add(MaxPooling2D(pool_size=2))\n",
    "model.add(Conv2D(64, 3, activation='relu'))\n",
    "model.add(MaxPooling2D(pool_size=2))\n",
    "model.add(Flatten())\n",
    "model.add(Dense(500, activation='relu'))\n",
    "model.add(Dropout(0.5))\n",
    "model.add(Dense(num_classes, activation='softmax'))\n",
    "model.compile(loss=\"categorical_crossentropy\", optimizer='adam',\n",
    "              metrics=[\"accuracy\"])\n",
    "\n",
    "model.summary()"
   ]
  },
  {
   "cell_type": "code",
   "execution_count": 6,
   "metadata": {},
   "outputs": [
    {
     "name": "stdout",
     "output_type": "stream",
     "text": [
      "Train on 800 samples, validate on 200 samples\n",
      "Epoch 1/10\n",
      "800/800 [==============================] - 2s 3ms/step - loss: 0.1208 - acc: 0.9688 - val_loss: 1.1921e-07 - val_acc: 1.0000\n",
      "Epoch 2/10\n",
      "800/800 [==============================] - 1s 795us/step - loss: 1.1921e-07 - acc: 1.0000 - val_loss: 1.1921e-07 - val_acc: 1.0000\n",
      "Epoch 3/10\n",
      "800/800 [==============================] - 1s 807us/step - loss: 1.1921e-07 - acc: 1.0000 - val_loss: 1.1921e-07 - val_acc: 1.0000\n",
      "Epoch 4/10\n",
      "800/800 [==============================] - 1s 823us/step - loss: 1.1921e-07 - acc: 1.0000 - val_loss: 1.1921e-07 - val_acc: 1.0000\n",
      "Epoch 5/10\n",
      "800/800 [==============================] - 1s 806us/step - loss: 1.1921e-07 - acc: 1.0000 - val_loss: 1.1921e-07 - val_acc: 1.0000\n",
      "Epoch 6/10\n",
      "800/800 [==============================] - 1s 816us/step - loss: 1.1921e-07 - acc: 1.0000 - val_loss: 1.1921e-07 - val_acc: 1.0000\n",
      "Epoch 7/10\n",
      "800/800 [==============================] - 1s 807us/step - loss: 1.1921e-07 - acc: 1.0000 - val_loss: 1.1921e-07 - val_acc: 1.0000\n",
      "Epoch 8/10\n",
      "800/800 [==============================] - 1s 1ms/step - loss: 1.1921e-07 - acc: 1.0000 - val_loss: 1.1921e-07 - val_acc: 1.0000\n",
      "Epoch 9/10\n",
      "800/800 [==============================] - 1s 866us/step - loss: 1.1921e-07 - acc: 1.0000 - val_loss: 1.1921e-07 - val_acc: 1.0000\n",
      "Epoch 10/10\n",
      "800/800 [==============================] - 1s 823us/step - loss: 1.1921e-07 - acc: 1.0000 - val_loss: 1.1921e-07 - val_acc: 1.0000\n"
     ]
    }
   ],
   "source": [
    "# ラベルを one-hot 表現に変換する。\n",
    "onehot_y_train = to_categorical(y_train)\n",
    "\n",
    "csv_logger = CSVLogger(os.path.join(result_dirpath, 'training.csv'))\n",
    "history = model.fit(x_train, onehot_y_train, epochs=epochs, callbacks=[csv_logger],\n",
    "                    batch_size=batch_size, validation_split=0.2)\n",
    "\n",
    "# モデルを保存する。\n",
    "model_path = os.path.join(result_dirpath, 'model.h5')\n",
    "model.save(model_path)"
   ]
  },
  {
   "cell_type": "code",
   "execution_count": 7,
   "metadata": {},
   "outputs": [
    {
     "name": "stdout",
     "output_type": "stream",
     "text": [
      "100.00%\n"
     ]
    }
   ],
   "source": [
    "# モデルを読み込む。\n",
    "model = load_model(model_path)\n",
    "\n",
    "# データセットを読み込む。\n",
    "x_test, y_test, label_to_name = load_dataset('data/test')\n",
    "\n",
    "# 推論する。\n",
    "pred = model.predict(x_test)\n",
    "# 確率値が一番高いラベルを推論結果とする。\n",
    "y_pred = pred.argmax(axis=1)\n",
    "\n",
    "# 精度を検証する。\n",
    "from sklearn.metrics import accuracy_score\n",
    "accracy = accuracy_score(y_test, y_pred)\n",
    "print('{:.2%}'.format(accracy))  # 100.00%"
   ]
  },
  {
   "cell_type": "code",
   "execution_count": null,
   "metadata": {},
   "outputs": [],
   "source": []
  }
 ],
 "metadata": {
  "kernelspec": {
   "display_name": "Python 3",
   "language": "python",
   "name": "python3"
  },
  "language_info": {
   "codemirror_mode": {
    "name": "ipython",
    "version": 3
   },
   "file_extension": ".py",
   "mimetype": "text/x-python",
   "name": "python",
   "nbconvert_exporter": "python",
   "pygments_lexer": "ipython3",
   "version": "3.6.6"
  }
 },
 "nbformat": 4,
 "nbformat_minor": 2
}

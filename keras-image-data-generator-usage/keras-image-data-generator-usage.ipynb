{
 "cells": [
  {
   "cell_type": "code",
   "execution_count": 1,
   "metadata": {},
   "outputs": [
    {
     "name": "stderr",
     "output_type": "stream",
     "text": [
      "WARNING: Logging before flag parsing goes to stderr.\n",
      "W0802 10:19:07.067420 139995004487424 deprecation.py:506] From /root/.local/share/virtualenvs/notebook-Pv36DT_Y/lib/python3.7/site-packages/tensorflow/python/ops/init_ops.py:1251: calling VarianceScaling.__init__ (from tensorflow.python.ops.init_ops) with dtype is deprecated and will be removed in a future version.\n",
      "Instructions for updating:\n",
      "Call initializer instance with the dtype argument instead of passing it to the constructor\n",
      "W0802 10:19:14.546433 139995004487424 deprecation.py:323] From /root/.local/share/virtualenvs/notebook-Pv36DT_Y/lib/python3.7/site-packages/tensorflow/python/ops/array_ops.py:1354: add_dispatch_support.<locals>.wrapper (from tensorflow.python.ops.array_ops) is deprecated and will be removed in a future version.\n",
      "Instructions for updating:\n",
      "Use tf.where in 2.0, which has the same broadcast rule as np.where\n"
     ]
    },
    {
     "name": "stdout",
     "output_type": "stream",
     "text": [
      "model_data/yolo.h5 model, anchors, and classes loaded.\n"
     ]
    },
    {
     "name": "stderr",
     "output_type": "stream",
     "text": [
      "W0802 10:19:17.712220 139995004487424 deprecation_wrapper.py:119] From /notebook/keras_yolo3/yolo.py:36: The name tf.keras.backend.get_session is deprecated. Please use tf.compat.v1.keras.backend.get_session instead.\n",
      "\n"
     ]
    },
    {
     "name": "stdout",
     "output_type": "stream",
     "text": [
      "[[ 70.293015 223.01704  238.52272  368.93643 ]\n",
      " [134.08167  184.66599  294.23825  405.27963 ]]\n"
     ]
    }
   ],
   "source": [
    "from PIL import Image\n",
    "\n",
    "from yolo import YOLO\n",
    "yolo = YOLO()\n",
    "\n",
    "img = Image.open(\"sample.jpg\")\n",
    "boxes, scores, classes = yolo.detect_image(img)\n",
    "print(boxes)\n",
    "# array([[ 70.293015, 223.01704 , 238.52272 , 368.93643 ],\n",
    "#        [134.08167 , 184.66599 , 294.23825 , 405.27963 ]], dtype=float32)"
   ]
  },
  {
   "cell_type": "code",
   "execution_count": null,
   "metadata": {},
   "outputs": [],
   "source": []
  }
 ],
 "metadata": {
  "kernelspec": {
   "display_name": "Python 3",
   "language": "python",
   "name": "python3"
  },
  "language_info": {
   "codemirror_mode": {
    "name": "ipython",
    "version": 3
   },
   "file_extension": ".py",
   "mimetype": "text/x-python",
   "name": "python",
   "nbconvert_exporter": "python",
   "pygments_lexer": "ipython3",
   "version": "3.7.2"
  }
 },
 "nbformat": 4,
 "nbformat_minor": 4
}

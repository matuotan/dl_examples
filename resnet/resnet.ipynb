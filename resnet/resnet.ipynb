{
 "cells": [
  {
   "cell_type": "code",
   "execution_count": 1,
   "metadata": {},
   "outputs": [],
   "source": [
    "import matplotlib.pyplot as plt\n",
    "import numpy as np\n",
    "from tensorflow.keras.datasets import fashion_mnist\n",
    "\n",
    "from resnet import ResnetBuilder\n",
    "\n",
    "# データセットを読み込む。\n",
    "(train_images, train_labels), (test_images, test_labels) = fashion_mnist.load_data()\n",
    "\n",
    "# [0, 1] に正規化する。\n",
    "train_X = train_images / 255\n",
    "test_X = test_images / 255\n",
    "\n",
    "# (H, W) -> (H, W, 1) にする。\n",
    "train_X = train_X[..., np.newaxis]\n",
    "test_X = test_X[..., np.newaxis]\n",
    "\n",
    "# クラス ID とクラス名の対応\n",
    "class_names = [\n",
    "    \"T-shirt/top\",\n",
    "    \"Trouser\",\n",
    "    \"Pullover\",\n",
    "    \"Dress\",\n",
    "    \"Coat\",\n",
    "    \"Sandal\",\n",
    "    \"Shirt\",\n",
    "    \"Sneaker\",\n",
    "    \"Bag\",\n",
    "    \"Ankle boot\",\n",
    "]"
   ]
  },
  {
   "cell_type": "code",
   "execution_count": 2,
   "metadata": {},
   "outputs": [
    {
     "name": "stdout",
     "output_type": "stream",
     "text": [
      "Epoch 1/5\n",
      "60000/60000 [==============================] - 47s 776us/sample - loss: 0.8278 - acc: 0.8470\n",
      "Epoch 2/5\n",
      "60000/60000 [==============================] - 44s 742us/sample - loss: 0.5405 - acc: 0.8828\n",
      "Epoch 3/5\n",
      "60000/60000 [==============================] - 45s 744us/sample - loss: 0.4577 - acc: 0.8932\n",
      "Epoch 4/5\n",
      "60000/60000 [==============================] - 44s 741us/sample - loss: 0.4133 - acc: 0.9002\n",
      "Epoch 5/5\n",
      "60000/60000 [==============================] - 44s 741us/sample - loss: 0.3841 - acc: 0.9079\n"
     ]
    },
    {
     "data": {
      "text/plain": [
       "<tensorflow.python.keras.callbacks.History at 0x7fbcac6fe240>"
      ]
     },
     "execution_count": 2,
     "metadata": {},
     "output_type": "execute_result"
    }
   ],
   "source": [
    "input_shape = (28, 28, 1)  # モデルの入力サイズ\n",
    "num_classes = 10  # クラス数\n",
    "\n",
    "# ResNet18 モデルを作成する。\n",
    "model = ResnetBuilder.build_resnet_18(input_shape, num_classes)\n",
    "\n",
    "# モデルをコンパイルする。\n",
    "model.compile(\n",
    "    optimizer=\"adam\", loss=\"sparse_categorical_crossentropy\", metrics=[\"accuracy\"]\n",
    ")\n",
    "\n",
    "# 学習する。\n",
    "model.fit(train_X, train_labels, epochs=5)"
   ]
  },
  {
   "cell_type": "code",
   "execution_count": 3,
   "metadata": {},
   "outputs": [
    {
     "name": "stdout",
     "output_type": "stream",
     "text": [
      "10000/10000 [==============================] - 3s 336us/sample - loss: 0.4377 - acc: 0.8882\n",
      "test loss: 0.44, test accuracy: 88.82%\n",
      "T-shirt/top: 0.00%\n",
      "Trouser: 0.00%\n",
      "Pullover: 0.00%\n",
      "Dress: 0.00%\n",
      "Coat: 0.00%\n",
      "Sandal: 0.00%\n",
      "Shirt: 0.00%\n",
      "Sneaker: 0.15%\n",
      "Bag: 0.00%\n",
      "Ankle boot: 99.85%\n"
     ]
    },
    {
     "data": {
      "image/png": "[encoded data removed]",
      "text/plain": [
       "<Figure size 432x288 with 1 Axes>"
      ]
     },
     "metadata": {
      "needs_background": "light"
     },
     "output_type": "display_data"
    }
   ],
   "source": [
    "# テストデータに対する性能を確認する。\n",
    "test_loss, test_acc = model.evaluate(test_X, test_labels)\n",
    "\n",
    "print(f\"test loss: {test_loss:.2f}, test accuracy: {test_acc:.2%}\")\n",
    "# test loss: 0.36, test accuracy: 86.93%\n",
    "\n",
    "# テストデータを推論する。\n",
    "predictions = model.predict(test_X)\n",
    "\n",
    "# test_images[0] の予測結果\n",
    "fig, ax = plt.subplots()\n",
    "ax.imshow(test_images[0], cmap=\"gray\")\n",
    "\n",
    "pred = predictions[0]\n",
    "for name, score in zip(class_names, pred):\n",
    "    print(f\"{name}: {score:.2%}\")"
   ]
  },
  {
   "cell_type": "code",
   "execution_count": null,
   "metadata": {},
   "outputs": [],
   "source": []
  }
 ],
 "metadata": {
  "kernelspec": {
   "display_name": "Python 3",
   "language": "python",
   "name": "python3"
  },
  "language_info": {
   "codemirror_mode": {
    "name": "ipython",
    "version": 3
   },
   "file_extension": ".py",
   "mimetype": "text/x-python",
   "name": "python",
   "nbconvert_exporter": "python",
   "pygments_lexer": "ipython3",
   "version": "3.7.2"
  }
 },
 "nbformat": 4,
 "nbformat_minor": 4
}
